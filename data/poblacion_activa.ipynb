{
 "cells": [
  {
   "cell_type": "markdown",
   "id": "d7ab6646",
   "metadata": {},
   "source": [
    "<div style=\"width: 100%; clear: both;\">\n",
    "<div style=\"float: left; width: 50%;\">\n",
    "<img src=\"http://www.uoc.edu/portal/_resources/common/imatges/marca_UOC/UOC_Masterbrand.jpg\", align=\"left\">\n",
    "</div>\n",
    "<div style=\"float: right; width: 50%;\">\n",
    "<p style=\"margin: 0; padding-top: 22px; text-align:right;\">Visualización de Datos · PEC2</p>\n",
    "<p style=\"margin: 0; text-align:right;\">Máster universitario en Ciencia de datos (Data science)</p>\n",
    "<p style=\"margin: 0; text-align:right; padding-button: 100px;\">Estudios de Informática, Multimedia y Telecomunicación</p>\n",
    "</div>\n",
    "</div>\n",
    "<div style=\"width:100%;\">&nbsp;</div>\n",
    "\n",
    "\n",
    "# PEC 2: Estudios de técnicas de Visualización de Datos\n",
    "\n",
    "A lo largo de esta práctica vamos a implementar varios modelos de redes neuronales recurrentes para la detección, clasificación y localización de errores en datos temporales producidos por varios sensores. "
   ]
  },
  {
   "cell_type": "code",
   "execution_count": 1,
   "id": "e799d94d",
   "metadata": {},
   "outputs": [],
   "source": [
    "import pandas as pd\n",
    "import numpy as np"
   ]
  },
  {
   "cell_type": "code",
   "execution_count": 2,
   "id": "28922c02",
   "metadata": {},
   "outputs": [],
   "source": [
    "paro = pd.read_csv('./data/tasa_paro.csv', sep=';')\n",
    "activos = pd.read_csv('./data/activos.csv', sep=';')"
   ]
  },
  {
   "cell_type": "code",
   "execution_count": 3,
   "id": "57af0feb",
   "metadata": {},
   "outputs": [
    {
     "data": {
      "text/html": [
       "<div>\n",
       "<style scoped>\n",
       "    .dataframe tbody tr th:only-of-type {\n",
       "        vertical-align: middle;\n",
       "    }\n",
       "\n",
       "    .dataframe tbody tr th {\n",
       "        vertical-align: top;\n",
       "    }\n",
       "\n",
       "    .dataframe thead th {\n",
       "        text-align: right;\n",
       "    }\n",
       "</style>\n",
       "<table border=\"1\" class=\"dataframe\">\n",
       "  <thead>\n",
       "    <tr style=\"text-align: right;\">\n",
       "      <th></th>\n",
       "      <th>Sexo</th>\n",
       "      <th>Comunidades y Ciudades Autónomas</th>\n",
       "      <th>Edad</th>\n",
       "      <th>Periodo</th>\n",
       "      <th>Total</th>\n",
       "    </tr>\n",
       "  </thead>\n",
       "  <tbody>\n",
       "    <tr>\n",
       "      <th>0</th>\n",
       "      <td>Ambos sexos</td>\n",
       "      <td>Total Nacional</td>\n",
       "      <td>Total</td>\n",
       "      <td>2023T3</td>\n",
       "      <td>24.121,00</td>\n",
       "    </tr>\n",
       "    <tr>\n",
       "      <th>1</th>\n",
       "      <td>Ambos sexos</td>\n",
       "      <td>Total Nacional</td>\n",
       "      <td>Total</td>\n",
       "      <td>2023T2</td>\n",
       "      <td>23.819,20</td>\n",
       "    </tr>\n",
       "    <tr>\n",
       "      <th>2</th>\n",
       "      <td>Ambos sexos</td>\n",
       "      <td>Total Nacional</td>\n",
       "      <td>Total</td>\n",
       "      <td>2023T1</td>\n",
       "      <td>23.580,50</td>\n",
       "    </tr>\n",
       "    <tr>\n",
       "      <th>3</th>\n",
       "      <td>Ambos sexos</td>\n",
       "      <td>Total Nacional</td>\n",
       "      <td>Total</td>\n",
       "      <td>2022T4</td>\n",
       "      <td>23.487,80</td>\n",
       "    </tr>\n",
       "    <tr>\n",
       "      <th>4</th>\n",
       "      <td>Ambos sexos</td>\n",
       "      <td>Total Nacional</td>\n",
       "      <td>Total</td>\n",
       "      <td>2022T3</td>\n",
       "      <td>23.525,90</td>\n",
       "    </tr>\n",
       "  </tbody>\n",
       "</table>\n",
       "</div>"
      ],
      "text/plain": [
       "          Sexo Comunidades y Ciudades Autónomas   Edad Periodo      Total\n",
       "0  Ambos sexos                   Total Nacional  Total  2023T3  24.121,00\n",
       "1  Ambos sexos                   Total Nacional  Total  2023T2  23.819,20\n",
       "2  Ambos sexos                   Total Nacional  Total  2023T1  23.580,50\n",
       "3  Ambos sexos                   Total Nacional  Total  2022T4  23.487,80\n",
       "4  Ambos sexos                   Total Nacional  Total  2022T3  23.525,90"
      ]
     },
     "execution_count": 3,
     "metadata": {},
     "output_type": "execute_result"
    }
   ],
   "source": [
    "paro.head()\n",
    "activos.head()"
   ]
  },
  {
   "cell_type": "code",
   "execution_count": 4,
   "id": "c6aa47a7",
   "metadata": {},
   "outputs": [],
   "source": [
    "subset_paro = paro[(paro['Edad'] == 'Total') & (paro['Comunidades y Ciudades Autónomas'] != 'Total Nacional') & \n",
    "                   (paro['Sexo'] == 'Ambos sexos')]\n",
    "\n",
    "subset_activos = activos[(activos['Edad'] == 'Total') & (activos['Comunidades y Ciudades Autónomas'] != 'Total Nacional') & \n",
    "                   (activos['Sexo'] == 'Ambos sexos')]"
   ]
  },
  {
   "cell_type": "code",
   "execution_count": 5,
   "id": "1c102b22",
   "metadata": {},
   "outputs": [
    {
     "name": "stderr",
     "output_type": "stream",
     "text": [
      "C:\\Users\\alexo\\AppData\\Local\\Temp\\ipykernel_17184\\621662536.py:1: SettingWithCopyWarning: \n",
      "A value is trying to be set on a copy of a slice from a DataFrame.\n",
      "Try using .loc[row_indexer,col_indexer] = value instead\n",
      "\n",
      "See the caveats in the documentation: https://pandas.pydata.org/pandas-docs/stable/user_guide/indexing.html#returning-a-view-versus-a-copy\n",
      "  subset_paro.loc[:, 'Periodo'] = subset_paro['Periodo'].str.extract(r'(\\d{4})').astype(int)\n",
      "C:\\Users\\alexo\\AppData\\Local\\Temp\\ipykernel_17184\\621662536.py:2: SettingWithCopyWarning: \n",
      "A value is trying to be set on a copy of a slice from a DataFrame.\n",
      "Try using .loc[row_indexer,col_indexer] = value instead\n",
      "\n",
      "See the caveats in the documentation: https://pandas.pydata.org/pandas-docs/stable/user_guide/indexing.html#returning-a-view-versus-a-copy\n",
      "  subset_paro['Total'] = subset_paro['Total'].str.replace(',', '.').astype(float)\n",
      "C:\\Users\\alexo\\AppData\\Local\\Temp\\ipykernel_17184\\621662536.py:4: SettingWithCopyWarning: \n",
      "A value is trying to be set on a copy of a slice from a DataFrame.\n",
      "Try using .loc[row_indexer,col_indexer] = value instead\n",
      "\n",
      "See the caveats in the documentation: https://pandas.pydata.org/pandas-docs/stable/user_guide/indexing.html#returning-a-view-versus-a-copy\n",
      "  subset_activos.loc[:, 'Periodo'] = subset_activos['Periodo'].str.extract(r'(\\d{4})').astype(int)\n",
      "C:\\Users\\alexo\\AppData\\Local\\Temp\\ipykernel_17184\\621662536.py:5: FutureWarning: The default value of regex will change from True to False in a future version. In addition, single character regular expressions will *not* be treated as literal strings when regex=True.\n",
      "  subset_activos['Total'] = subset_activos['Total'].str.replace('.', '').str.replace(',', '.').astype(float)\n",
      "C:\\Users\\alexo\\AppData\\Local\\Temp\\ipykernel_17184\\621662536.py:5: SettingWithCopyWarning: \n",
      "A value is trying to be set on a copy of a slice from a DataFrame.\n",
      "Try using .loc[row_indexer,col_indexer] = value instead\n",
      "\n",
      "See the caveats in the documentation: https://pandas.pydata.org/pandas-docs/stable/user_guide/indexing.html#returning-a-view-versus-a-copy\n",
      "  subset_activos['Total'] = subset_activos['Total'].str.replace('.', '').str.replace(',', '.').astype(float)\n"
     ]
    }
   ],
   "source": [
    "subset_paro.loc[:, 'Periodo'] = subset_paro['Periodo'].str.extract(r'(\\d{4})').astype(int)\n",
    "subset_paro['Total'] = subset_paro['Total'].str.replace(',', '.').astype(float)\n",
    "\n",
    "subset_activos.loc[:, 'Periodo'] = subset_activos['Periodo'].str.extract(r'(\\d{4})').astype(int)\n",
    "subset_activos['Total'] = subset_activos['Total'].str.replace('.', '').str.replace(',', '.').astype(float)"
   ]
  },
  {
   "cell_type": "code",
   "execution_count": 6,
   "id": "28d72610",
   "metadata": {},
   "outputs": [],
   "source": [
    "df_anual_paro = subset_paro.groupby(['Comunidades y Ciudades Autónomas', 'Periodo'])['Total'].mean().reset_index()\n",
    "df_anual_activos = subset_activos.groupby(['Comunidades y Ciudades Autónomas', 'Periodo'])['Total'].mean().reset_index()"
   ]
  },
  {
   "cell_type": "code",
   "execution_count": 7,
   "id": "5f5b410d",
   "metadata": {},
   "outputs": [
    {
     "data": {
      "text/html": [
       "<div>\n",
       "<style scoped>\n",
       "    .dataframe tbody tr th:only-of-type {\n",
       "        vertical-align: middle;\n",
       "    }\n",
       "\n",
       "    .dataframe tbody tr th {\n",
       "        vertical-align: top;\n",
       "    }\n",
       "\n",
       "    .dataframe thead th {\n",
       "        text-align: right;\n",
       "    }\n",
       "</style>\n",
       "<table border=\"1\" class=\"dataframe\">\n",
       "  <thead>\n",
       "    <tr style=\"text-align: right;\">\n",
       "      <th></th>\n",
       "      <th>Comunidades y Ciudades Autónomas</th>\n",
       "      <th>Periodo</th>\n",
       "      <th>Total</th>\n",
       "    </tr>\n",
       "  </thead>\n",
       "  <tbody>\n",
       "    <tr>\n",
       "      <th>0</th>\n",
       "      <td>01 Andalucía</td>\n",
       "      <td>2002</td>\n",
       "      <td>3165.550</td>\n",
       "    </tr>\n",
       "    <tr>\n",
       "      <th>1</th>\n",
       "      <td>01 Andalucía</td>\n",
       "      <td>2003</td>\n",
       "      <td>3260.225</td>\n",
       "    </tr>\n",
       "    <tr>\n",
       "      <th>2</th>\n",
       "      <td>01 Andalucía</td>\n",
       "      <td>2004</td>\n",
       "      <td>3360.975</td>\n",
       "    </tr>\n",
       "    <tr>\n",
       "      <th>3</th>\n",
       "      <td>01 Andalucía</td>\n",
       "      <td>2005</td>\n",
       "      <td>3480.250</td>\n",
       "    </tr>\n",
       "    <tr>\n",
       "      <th>4</th>\n",
       "      <td>01 Andalucía</td>\n",
       "      <td>2006</td>\n",
       "      <td>3591.850</td>\n",
       "    </tr>\n",
       "  </tbody>\n",
       "</table>\n",
       "</div>"
      ],
      "text/plain": [
       "  Comunidades y Ciudades Autónomas  Periodo     Total\n",
       "0                     01 Andalucía     2002  3165.550\n",
       "1                     01 Andalucía     2003  3260.225\n",
       "2                     01 Andalucía     2004  3360.975\n",
       "3                     01 Andalucía     2005  3480.250\n",
       "4                     01 Andalucía     2006  3591.850"
      ]
     },
     "execution_count": 7,
     "metadata": {},
     "output_type": "execute_result"
    }
   ],
   "source": [
    "df_anual_activos.head()"
   ]
  },
  {
   "cell_type": "code",
   "execution_count": 8,
   "id": "0b9cbea5",
   "metadata": {},
   "outputs": [
    {
     "data": {
      "text/html": [
       "<div>\n",
       "<style scoped>\n",
       "    .dataframe tbody tr th:only-of-type {\n",
       "        vertical-align: middle;\n",
       "    }\n",
       "\n",
       "    .dataframe tbody tr th {\n",
       "        vertical-align: top;\n",
       "    }\n",
       "\n",
       "    .dataframe thead th {\n",
       "        text-align: right;\n",
       "    }\n",
       "</style>\n",
       "<table border=\"1\" class=\"dataframe\">\n",
       "  <thead>\n",
       "    <tr style=\"text-align: right;\">\n",
       "      <th></th>\n",
       "      <th>Comunidades y Ciudades Autónomas</th>\n",
       "      <th>Periodo</th>\n",
       "      <th>Total</th>\n",
       "    </tr>\n",
       "  </thead>\n",
       "  <tbody>\n",
       "    <tr>\n",
       "      <th>0</th>\n",
       "      <td>01 Andalucía</td>\n",
       "      <td>2002</td>\n",
       "      <td>19.4950</td>\n",
       "    </tr>\n",
       "    <tr>\n",
       "      <th>1</th>\n",
       "      <td>01 Andalucía</td>\n",
       "      <td>2003</td>\n",
       "      <td>18.4500</td>\n",
       "    </tr>\n",
       "    <tr>\n",
       "      <th>2</th>\n",
       "      <td>01 Andalucía</td>\n",
       "      <td>2004</td>\n",
       "      <td>16.9925</td>\n",
       "    </tr>\n",
       "    <tr>\n",
       "      <th>3</th>\n",
       "      <td>01 Andalucía</td>\n",
       "      <td>2005</td>\n",
       "      <td>13.8250</td>\n",
       "    </tr>\n",
       "    <tr>\n",
       "      <th>4</th>\n",
       "      <td>01 Andalucía</td>\n",
       "      <td>2006</td>\n",
       "      <td>12.6225</td>\n",
       "    </tr>\n",
       "  </tbody>\n",
       "</table>\n",
       "</div>"
      ],
      "text/plain": [
       "  Comunidades y Ciudades Autónomas  Periodo    Total\n",
       "0                     01 Andalucía     2002  19.4950\n",
       "1                     01 Andalucía     2003  18.4500\n",
       "2                     01 Andalucía     2004  16.9925\n",
       "3                     01 Andalucía     2005  13.8250\n",
       "4                     01 Andalucía     2006  12.6225"
      ]
     },
     "execution_count": 8,
     "metadata": {},
     "output_type": "execute_result"
    }
   ],
   "source": [
    "df_anual_paro.head()"
   ]
  },
  {
   "cell_type": "code",
   "execution_count": 10,
   "id": "2de365b4",
   "metadata": {},
   "outputs": [],
   "source": [
    "df_anual_activos.rename(columns={'Total': 'Activos'}, inplace=True)\n",
    "df_anual_paro.rename(columns={'Total': 'Paro'}, inplace=True)\n",
    "\n",
    "df_total = pd.merge(df_anual_activos, df_anual_paro, \n",
    "                    on=['Comunidades y Ciudades Autónomas', 'Periodo'], how='inner')"
   ]
  },
  {
   "cell_type": "code",
   "execution_count": 12,
   "id": "e30817d3",
   "metadata": {},
   "outputs": [],
   "source": [
    "df_total['Comunidades y Ciudades Autónomas'] = df_total['Comunidades y Ciudades Autónomas'].str.replace(r'^\\d+\\s*', '', regex=True)"
   ]
  },
  {
   "cell_type": "code",
   "execution_count": 13,
   "id": "b5ac598a",
   "metadata": {},
   "outputs": [
    {
     "data": {
      "text/html": [
       "<div>\n",
       "<style scoped>\n",
       "    .dataframe tbody tr th:only-of-type {\n",
       "        vertical-align: middle;\n",
       "    }\n",
       "\n",
       "    .dataframe tbody tr th {\n",
       "        vertical-align: top;\n",
       "    }\n",
       "\n",
       "    .dataframe thead th {\n",
       "        text-align: right;\n",
       "    }\n",
       "</style>\n",
       "<table border=\"1\" class=\"dataframe\">\n",
       "  <thead>\n",
       "    <tr style=\"text-align: right;\">\n",
       "      <th></th>\n",
       "      <th>Comunidades y Ciudades Autónomas</th>\n",
       "      <th>Periodo</th>\n",
       "      <th>Activos</th>\n",
       "      <th>Paro</th>\n",
       "    </tr>\n",
       "  </thead>\n",
       "  <tbody>\n",
       "    <tr>\n",
       "      <th>0</th>\n",
       "      <td>Andalucía</td>\n",
       "      <td>2002</td>\n",
       "      <td>3165.550</td>\n",
       "      <td>19.4950</td>\n",
       "    </tr>\n",
       "    <tr>\n",
       "      <th>1</th>\n",
       "      <td>Andalucía</td>\n",
       "      <td>2003</td>\n",
       "      <td>3260.225</td>\n",
       "      <td>18.4500</td>\n",
       "    </tr>\n",
       "    <tr>\n",
       "      <th>2</th>\n",
       "      <td>Andalucía</td>\n",
       "      <td>2004</td>\n",
       "      <td>3360.975</td>\n",
       "      <td>16.9925</td>\n",
       "    </tr>\n",
       "    <tr>\n",
       "      <th>3</th>\n",
       "      <td>Andalucía</td>\n",
       "      <td>2005</td>\n",
       "      <td>3480.250</td>\n",
       "      <td>13.8250</td>\n",
       "    </tr>\n",
       "    <tr>\n",
       "      <th>4</th>\n",
       "      <td>Andalucía</td>\n",
       "      <td>2006</td>\n",
       "      <td>3591.850</td>\n",
       "      <td>12.6225</td>\n",
       "    </tr>\n",
       "  </tbody>\n",
       "</table>\n",
       "</div>"
      ],
      "text/plain": [
       "  Comunidades y Ciudades Autónomas  Periodo   Activos     Paro\n",
       "0                        Andalucía     2002  3165.550  19.4950\n",
       "1                        Andalucía     2003  3260.225  18.4500\n",
       "2                        Andalucía     2004  3360.975  16.9925\n",
       "3                        Andalucía     2005  3480.250  13.8250\n",
       "4                        Andalucía     2006  3591.850  12.6225"
      ]
     },
     "execution_count": 13,
     "metadata": {},
     "output_type": "execute_result"
    }
   ],
   "source": [
    "df_total.head()"
   ]
  },
  {
   "cell_type": "code",
   "execution_count": 17,
   "id": "02a85f91",
   "metadata": {},
   "outputs": [],
   "source": [
    "df_total.to_csv('./data/paro_españa.csv', index=False, encoding='utf-8')"
   ]
  },
  {
   "cell_type": "code",
   "execution_count": null,
   "id": "ced17073",
   "metadata": {},
   "outputs": [],
   "source": []
  }
 ],
 "metadata": {
  "kernelspec": {
   "display_name": "Python 3 (ipykernel)",
   "language": "python",
   "name": "python3"
  },
  "language_info": {
   "codemirror_mode": {
    "name": "ipython",
    "version": 3
   },
   "file_extension": ".py",
   "mimetype": "text/x-python",
   "name": "python",
   "nbconvert_exporter": "python",
   "pygments_lexer": "ipython3",
   "version": "3.9.7"
  }
 },
 "nbformat": 4,
 "nbformat_minor": 5
}
